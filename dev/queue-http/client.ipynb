{
 "cells": [
  {
   "cell_type": "code",
   "execution_count": 26,
   "metadata": {},
   "outputs": [],
   "source": [
    "from pipeteer.http import QueueClient, ReadClient, WriteClient, bound_request\n",
    "import requests\n",
    "from haskellian import either as E\n",
    "from pydantic import RootModel\n",
    "import json\n",
    "\n",
    "TOKEN = 'SECRET'\n",
    "ENDPOINT = 'http://localhost:8000'\n",
    "headers = {'Authorization': f'Bearer {TOKEN}'}\n",
    "req = bound_request(headers=headers)"
   ]
  },
  {
   "cell_type": "code",
   "execution_count": 27,
   "metadata": {},
   "outputs": [],
   "source": [
    "Q = QueueClient.validated(dict, f'{ENDPOINT}/queue', request=req)\n",
    "Qw = WriteClient.validated(dict, f'{ENDPOINT}/write', request=req)\n",
    "Qr = ReadClient.validated(dict, f'{ENDPOINT}/read', request=req)"
   ]
  },
  {
   "cell_type": "code",
   "execution_count": 28,
   "metadata": {},
   "outputs": [
    {
     "data": {
      "text/plain": [
       "Right(value=None, tag='right')"
      ]
     },
     "execution_count": 28,
     "metadata": {},
     "output_type": "execute_result"
    }
   ],
   "source": [
    "await Q.push('item1', dict(hello='world1'))\n",
    "await Qw.push('item2', dict(hello='world2'))"
   ]
  },
  {
   "cell_type": "code",
   "execution_count": 29,
   "metadata": {},
   "outputs": [
    {
     "data": {
      "text/plain": [
       "([Right(value=('item1', {'hello': 'world1'}), tag='right'),\n",
       "  Right(value=('item2', {'hello': 'world2'}), tag='right')],\n",
       " [Right(value=('item1', {'hello': 'world1'}), tag='right'),\n",
       "  Right(value=('item2', {'hello': 'world2'}), tag='right')])"
      ]
     },
     "execution_count": 29,
     "metadata": {},
     "output_type": "execute_result"
    }
   ],
   "source": [
    "await Qr.items().sync(), await Q.items().sync()"
   ]
  },
  {
   "cell_type": "code",
   "execution_count": 30,
   "metadata": {},
   "outputs": [
    {
     "data": {
      "text/plain": [
       "Right(value=None, tag='right')"
      ]
     },
     "execution_count": 30,
     "metadata": {},
     "output_type": "execute_result"
    }
   ],
   "source": [
    "await Qr.pop('item1')"
   ]
  },
  {
   "cell_type": "code",
   "execution_count": 31,
   "metadata": {},
   "outputs": [
    {
     "data": {
      "text/plain": [
       "Right(value=None, tag='right')"
      ]
     },
     "execution_count": 31,
     "metadata": {},
     "output_type": "execute_result"
    }
   ],
   "source": [
    "await Q.pop('item2')"
   ]
  }
 ],
 "metadata": {
  "kernelspec": {
   "display_name": ".venv",
   "language": "python",
   "name": "python3"
  },
  "language_info": {
   "codemirror_mode": {
    "name": "ipython",
    "version": 3
   },
   "file_extension": ".py",
   "mimetype": "text/x-python",
   "name": "python",
   "nbconvert_exporter": "python",
   "pygments_lexer": "ipython3",
   "version": "3.11.6"
  }
 },
 "nbformat": 4,
 "nbformat_minor": 2
}
