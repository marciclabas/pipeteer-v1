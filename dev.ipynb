{
 "cells": [
  {
   "cell_type": "code",
   "execution_count": 28,
   "metadata": {},
   "outputs": [],
   "source": [
    "from typing import TypeVar, Generic, TypedDict, Protocol, Sequence, Mapping, Any, Union, Coroutine, Unpack\n",
    "from abc import ABC, abstractmethod\n",
    "import functools as ft\n",
    "from dataclasses import dataclass\n",
    "from haskellian import Either, Left\n",
    "import asyncio\n",
    "from pipeteer.pipelines import Pipeline, Wrapped, Workflow, DictWorkflow, Task\n",
    "from pipeteer.queues import ReadQueue, WriteQueue, Queue, SimpleQueue, ops, QueueKV\n",
    "\n",
    "T = TypeVar('T')\n",
    "\n",
    "def cache(func):\n",
    "  @ft.wraps(func)\n",
    "  def wrapper(*args, **kwargs):\n",
    "    return ft.cache(func)(*args, **kwargs)\n",
    "  return wrapper\n",
    "\n",
    "@cache\n",
    "def get_queue(path: Sequence[str], type: type[T], /) -> Queue[T]:\n",
    "  return QueueKV.sqlite(type, 'queues.sqlite', '-'.join(path) or 'Qin')"
   ]
  },
  {
   "cell_type": "code",
   "execution_count": 29,
   "metadata": {},
   "outputs": [],
   "source": [
    "class MyPipeline(Task[str, str, Coroutine]):\n",
    "\n",
    "  def __init__(self):\n",
    "    super().__init__(str, str)\n",
    "\n",
    "  async def run(self, Qs: Task.Queues[str, str]):\n",
    "    Qin, Qout = Qs['Qin'], Qs['Qout']\n",
    "    while True:\n",
    "      id, x = (await Qin.read()).unsafe()\n",
    "      print(f'Processing \"{id}\":', x)\n",
    "      (await Qout.push(id, f'{x}!')).unsafe()\n",
    "      (await Qin.pop(id)).unsafe()"
   ]
  },
  {
   "cell_type": "code",
   "execution_count": 4,
   "metadata": {},
   "outputs": [],
   "source": [
    "class MyArtifacts(TypedDict):\n",
    "  run_a: Coroutine\n",
    "  run_b: Coroutine\n",
    "\n",
    "\n",
    "class MyWorkflow(Workflow[str, str, Task.Queues[str, str], MyArtifacts]):\n",
    "\n",
    "  class Queues(TypedDict):\n",
    "    a: Task.Queues[str, str]\n",
    "    b: Task.Queues[str, str]\n",
    "\n",
    "  def __init__(self):\n",
    "    super().__init__({\n",
    "      'a': MyPipeline(),\n",
    "      'b': MyPipeline(),\n",
    "    })\n",
    "\n",
    "  def run(self, Qs):\n",
    "    return MyArtifacts(run_a=self.pipelines['a'].run(Qs['a']), run_b=self.pipelines['b'].run(Qs['b']))"
   ]
  },
  {
   "cell_type": "code",
   "execution_count": 5,
   "metadata": {},
   "outputs": [],
   "source": [
    "wkf = Workflow.dict({\n",
    "  'a': MyPipeline(),\n",
    "  'b': MyPipeline(),\n",
    "})"
   ]
  },
  {
   "cell_type": "code",
   "execution_count": 6,
   "metadata": {},
   "outputs": [],
   "source": [
    "Qout: Queue[str] = get_queue(('Qout',), str)\n",
    "Qs = wkf.connect(Qout, get_queue)"
   ]
  },
  {
   "cell_type": "code",
   "execution_count": 6,
   "metadata": {},
   "outputs": [],
   "source": [
    "wpd = wkf.wrap(int, pre=str, post=lambda x, s: f'{s} {x}')"
   ]
  },
  {
   "cell_type": "code",
   "execution_count": null,
   "metadata": {},
   "outputs": [],
   "source": []
  },
  {
   "cell_type": "code",
   "execution_count": 7,
   "metadata": {},
   "outputs": [
    {
     "data": {
      "text/plain": [
       "{'Qwrapped': SimpleQueue(),\n",
       " 'wrapped': {'a': {'Qin': SimpleQueue(wrapped/a),\n",
       "   'Qout': prejoin(SimpleQueue(wrapped/a), SimpleQueue(wrapped/b))},\n",
       "  'b': {'Qin': SimpleQueue(wrapped/b),\n",
       "   'Qout': prejoin(SimpleQueue(wrapped/a), SimpleQueue(wrapped/b))}}}"
      ]
     },
     "execution_count": 7,
     "metadata": {},
     "output_type": "execute_result"
    }
   ],
   "source": [
    "wpd.connect(Qout, get_queue)"
   ]
  },
  {
   "cell_type": "code",
   "execution_count": 8,
   "metadata": {},
   "outputs": [
    {
     "data": {
      "text/plain": [
       "prejoin(SimpleQueue(a), SimpleQueue(b))"
      ]
     },
     "execution_count": 8,
     "metadata": {},
     "output_type": "execute_result"
    }
   ],
   "source": [
    "Qs['a']['Qout']"
   ]
  },
  {
   "cell_type": "code",
   "execution_count": 9,
   "metadata": {},
   "outputs": [
    {
     "data": {
      "text/plain": [
       "{'run_a': <coroutine object MyPipeline.run at 0x7facfefe1640>,\n",
       " 'run_b': <coroutine object MyPipeline.run at 0x7facfee01840>}"
      ]
     },
     "execution_count": 9,
     "metadata": {},
     "output_type": "execute_result"
    }
   ],
   "source": [
    "wkf.run(Qs)"
   ]
  }
 ],
 "metadata": {
  "kernelspec": {
   "display_name": ".venv",
   "language": "python",
   "name": "python3"
  },
  "language_info": {
   "codemirror_mode": {
    "name": "ipython",
    "version": 3
   },
   "file_extension": ".py",
   "mimetype": "text/x-python",
   "name": "python",
   "nbconvert_exporter": "python",
   "pygments_lexer": "ipython3",
   "version": "3.11.6"
  }
 },
 "nbformat": 4,
 "nbformat_minor": 2
}
