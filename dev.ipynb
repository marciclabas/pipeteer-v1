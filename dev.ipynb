{
 "cells": [
  {
   "cell_type": "code",
   "execution_count": 4,
   "metadata": {},
   "outputs": [],
   "source": [
    "from typing import Callable, Mapping, TypeVar, Sequence, Any, Iterable\n",
    "from dataclasses import dataclass\n",
    "from haskellian import either as E\n",
    "from pipeteer import Pipeline, SimpleQueue, Workflow, Wrapped, QueueKV, make_queues, flatten_queues\n",
    "from example_workflow import Artifacts, Input\n",
    "from prettyprinter import pformat"
   ]
  },
  {
   "cell_type": "code",
   "execution_count": 5,
   "metadata": {},
   "outputs": [],
   "source": [
    "Qin = QueueKV.sqlite(Input, 'queue.sqlite', 'Qin')"
   ]
  },
  {
   "cell_type": "code",
   "execution_count": 7,
   "metadata": {},
   "outputs": [],
   "source": [
    "for i in range(1, 10):\n",
    "  await Qin.push(f'task{i}', Input(f'img{i}'.encode()))"
   ]
  }
 ],
 "metadata": {
  "kernelspec": {
   "display_name": ".venv",
   "language": "python",
   "name": "python3"
  },
  "language_info": {
   "codemirror_mode": {
    "name": "ipython",
    "version": 3
   },
   "file_extension": ".py",
   "mimetype": "text/x-python",
   "name": "python",
   "nbconvert_exporter": "python",
   "pygments_lexer": "ipython3",
   "version": "3.11.6"
  }
 },
 "nbformat": 4,
 "nbformat_minor": 2
}
