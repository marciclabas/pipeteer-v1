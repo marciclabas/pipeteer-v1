{
 "cells": [
  {
   "cell_type": "code",
   "execution_count": 1,
   "metadata": {},
   "outputs": [],
   "source": [
    "from typing import Callable, Mapping, TypeVar, Sequence, Any, Iterable\n",
    "from dataclasses import dataclass\n",
    "from haskellian import either as E\n",
    "from pipeteer import Pipeline, SimpleQueue, ReadQueue, Queue, Workflow, Wrapped, QueueKV, connect_queues, flatten_queues, push_queue\n",
    "from example_workflow import Artifacts, Input, Output, workflow\n",
    "from example_workflow.flow import AutoCorrected, ManualInput\n",
    "from prettyprinter import pformat"
   ]
  },
  {
   "cell_type": "code",
   "execution_count": 2,
   "metadata": {},
   "outputs": [],
   "source": [
    "def make_queue(path, type):\n",
    "  return QueueKV.sqlite(type, 'queue.sqlite', '-'.join(path))\n",
    "\n",
    "Qout = make_queue(['Qout'], Output)\n",
    "Qpush = push_queue(workflow, make_queue)"
   ]
  },
  {
   "cell_type": "code",
   "execution_count": 3,
   "metadata": {},
   "outputs": [
    {
     "data": {
      "text/plain": [
       "Iter([(('auto-correct', 'Qin'), QueueKV(SQLiteKV)), (('auto-correct', 'Qout'), premerge(QueueKV(SQLiteKV) -> prejoin(tee(QueueKV(SQLiteKV), premap(QueueKV(SQLiteKV))), tee(QueueKV(SQLiteKV), premap(QueueKV(SQLiteKV))), tee(QueueKV(SQLiteKV), premap(QueueKV(SQLiteKV)))))), (('validation', 'Qin'), QueueKV(SQLiteKV)), (('validation', 'Qout'), premerge(QueueKV(SQLiteKV) -> prejoin(tee(QueueKV(SQLiteKV), premap(QueueKV(SQLiteKV))), tee(QueueKV(SQLiteKV), premap(QueueKV(SQLiteKV))), tee(QueueKV(SQLiteKV), premap(QueueKV(SQLiteKV)))))), (('manual-correct', 'Qin'), QueueKV(SQLiteKV)), ...])"
      ]
     },
     "execution_count": 3,
     "metadata": {},
     "output_type": "execute_result"
    }
   ],
   "source": [
    "Qs = connect_queues(workflow, Qout, make_queue=make_queue)\n",
    "flatten_queues(Qs).filter(ReadQueue.guard)"
   ]
  },
  {
   "cell_type": "code",
   "execution_count": 4,
   "metadata": {},
   "outputs": [
    {
     "data": {
      "text/plain": [
       "Right(value=None, tag='right')"
      ]
     },
     "execution_count": 4,
     "metadata": {},
     "output_type": "execute_result"
    }
   ],
   "source": [
    "await Qpush.push('task1', Input(b'img1'))"
   ]
  }
 ],
 "metadata": {
  "kernelspec": {
   "display_name": ".venv",
   "language": "python",
   "name": "python3"
  },
  "language_info": {
   "codemirror_mode": {
    "name": "ipython",
    "version": 3
   },
   "file_extension": ".py",
   "mimetype": "text/x-python",
   "name": "python",
   "nbconvert_exporter": "python",
   "pygments_lexer": "ipython3",
   "version": "3.11.6"
  }
 },
 "nbformat": 4,
 "nbformat_minor": 2
}
