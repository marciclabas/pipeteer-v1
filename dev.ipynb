{
 "cells": [
  {
   "cell_type": "code",
   "execution_count": 1,
   "metadata": {},
   "outputs": [],
   "source": [
    "from typing import Callable, Mapping, TypeVar, Sequence, Any, Iterable\n",
    "from dataclasses import dataclass\n",
    "from haskellian import either as E\n",
    "from pipeteer import Pipeline, SimpleQueue, ReadQueue, Queue, Workflow, Wrapped, QueueKV, connect_queues, flatten_queues, input_queues\n",
    "from example_workflow import Artifacts, Input, Output, workflow\n",
    "from prettyprinter import pformat"
   ]
  },
  {
   "cell_type": "code",
   "execution_count": 2,
   "metadata": {},
   "outputs": [],
   "source": [
    "Qin = QueueKV.sqlite(Input, 'queue.sqlite', 'Qin')\n",
    "Qout = QueueKV.sqlite(Output, 'queue.sqlite', 'Qout')\n",
    "\n",
    "def make_queue(path, type):\n",
    "  return QueueKV.sqlite(type, 'queue.sqlite', '-'.join(path))\n",
    "\n",
    "Qs = connect_queues(Qin, Qout, workflow, make_queue=make_queue)"
   ]
  },
  {
   "cell_type": "code",
   "execution_count": 3,
   "metadata": {},
   "outputs": [
    {
     "data": {
      "text/plain": [
       "[(('validation',),\n",
       "  QueueKV(SQLiteKV(conn=<sqlite3.Connection object at 0x7ff4d047ae30>, table='validation', parse=<function SQLiteKV.validated.<locals>.<lambda> at 0x7ff4d04bf100>, dump=<function SQLiteKV.validated.<locals>.<lambda> at 0x7ff4d020cae0>, dtype='JSON'))),\n",
       " (('manual-correct',),\n",
       "  QueueKV(SQLiteKV(conn=<sqlite3.Connection object at 0x7ff4d047b010>, table='manual-correct', parse=<function SQLiteKV.validated.<locals>.<lambda> at 0x7ff4d1394860>, dump=<function SQLiteKV.validated.<locals>.<lambda> at 0x7ff4d1394f40>, dtype='JSON')))]"
      ]
     },
     "execution_count": 3,
     "metadata": {},
     "output_type": "execute_result"
    }
   ],
   "source": [
    "Qins = input_queues(Qin, workflow, make_queue=make_queue)\n",
    "flatten_queues(Qins)"
   ]
  }
 ],
 "metadata": {
  "kernelspec": {
   "display_name": ".venv",
   "language": "python",
   "name": "python3"
  },
  "language_info": {
   "codemirror_mode": {
    "name": "ipython",
    "version": 3
   },
   "file_extension": ".py",
   "mimetype": "text/x-python",
   "name": "python",
   "nbconvert_exporter": "python",
   "pygments_lexer": "ipython3",
   "version": "3.11.6"
  }
 },
 "nbformat": 4,
 "nbformat_minor": 2
}
