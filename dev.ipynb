{
 "cells": [
  {
   "cell_type": "code",
   "execution_count": 1,
   "metadata": {},
   "outputs": [],
   "source": [
    "from typing import Any, TypeVar\n",
    "from types import UnionType\n",
    "import moveread.pipelines.dfy as dfy\n",
    "from haskellian import either as E\n",
    "from pipeteer import http, trees, ReadQueue, WriteQueue, Pipeline, SimpleQueue\n",
    "from pipeteer.pipelines import GetQueue\n",
    "from fastapi import FastAPI\n",
    "from pydantic import TypeAdapter\n",
    "\n",
    "T = TypeVar('T')"
   ]
  },
  {
   "cell_type": "code",
   "execution_count": 2,
   "metadata": {},
   "outputs": [],
   "source": [
    "get_queue = dfy.queue_factory('queues.sqlite')\n",
    "pipe = dfy.DFYPipeline()\n",
    "Qout = get_queue(('output',), dfy.Output)"
   ]
  },
  {
   "cell_type": "code",
   "execution_count": 7,
   "metadata": {},
   "outputs": [
    {
     "data": {
      "text/plain": [
       "Iter([(('inputval', 'Qwrapped'), <pipeteer.http.client.read.ReadClient object at 0x7f80777ab750>), (('inputval', 'wrapped', 'Qin'), <pipeteer.http.client.read.ReadClient object at 0x7f80777a9a10>), (('preprocess', 'Qwrapped'), <pipeteer.http.client.read.ReadClient object at 0x7f80777ab7d0>), (('preprocess', 'wrapped', 'preinput', 'Qin'), <pipeteer.http.client.read.ReadClient object at 0x7f80777a9ed0>), (('preprocess', 'wrapped', 'preprocess', 'extract', 'Qwrapped'), <pipeteer.http.client.read.ReadClient object at 0x7f80785c6190>), ...])"
      ]
     },
     "execution_count": 7,
     "metadata": {},
     "output_type": "execute_result"
    }
   ],
   "source": [
    "Qs = pipe.observe(get_queue)\n",
    "\n",
    "def read_client(path, _, *, base = 'http://localhost:8000/queues'):\n",
    "  url = base + '/'.join(path) + '/read'\n",
    "  return http.ReadClient.validated(Any, url)\n",
    "\n",
    "trees.flatten(trees.path_map(Qs, read_client))"
   ]
  }
 ],
 "metadata": {
  "kernelspec": {
   "display_name": ".venv",
   "language": "python",
   "name": "python3"
  },
  "language_info": {
   "codemirror_mode": {
    "name": "ipython",
    "version": 3
   },
   "file_extension": ".py",
   "mimetype": "text/x-python",
   "name": "python",
   "nbconvert_exporter": "python",
   "pygments_lexer": "ipython3",
   "version": "3.11.6"
  }
 },
 "nbformat": 4,
 "nbformat_minor": 2
}
