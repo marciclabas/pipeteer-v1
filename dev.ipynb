{
 "cells": [
  {
   "cell_type": "code",
   "execution_count": null,
   "metadata": {},
   "outputs": [],
   "source": [
    "from typing import Any, TypeVar, TypedDict, Mapping, Sequence, Coroutine, Generic\n",
    "import moveread.pipelines.dfy as dfy\n",
    "from haskellian import either as E\n",
    "from functools import cache\n",
    "import asyncio\n",
    "from pipeteer import http, trees, ReadQueue, WriteQueue, Pipeline, SimpleQueue, Task, Sequential\n",
    "from pipeteer.pipelines import GetQueue\n",
    "from haskellian import iter as I, Iter\n",
    "from dslog import Logger\n",
    "from kv.api import SimpleKV\n",
    "from moveread.pipelines.dfy import DFYPipeline\n",
    "\n",
    "A = TypeVar('A')\n",
    "B = TypeVar('B')\n",
    "T = TypeVar('T')\n",
    "Q = TypeVar('Q')\n",
    "P = TypeVar('P')"
   ]
  },
  {
   "cell_type": "code",
   "execution_count": null,
   "metadata": {},
   "outputs": [],
   "source": [
    "@cache\n",
    "def get_queue(path, type):\n",
    "  print('Creating', path, type)\n",
    "  return SimpleQueue('-'.join(map(str, path)))"
   ]
  },
  {
   "cell_type": "code",
   "execution_count": null,
   "metadata": {},
   "outputs": [],
   "source": [
    "blobs = SimpleKV()\n",
    "params = DFYPipeline.Params(blobs=blobs) # type: ignore\n",
    "pipe = DFYPipeline()\n",
    "Qout = get_queue(('output',), DFYPipeline.Output)\n",
    "Qs = pipe.connect(Qout, get_queue, params)"
   ]
  },
  {
   "cell_type": "code",
   "execution_count": null,
   "metadata": {},
   "outputs": [],
   "source": [
    "Qs"
   ]
  }
 ],
 "metadata": {
  "kernelspec": {
   "display_name": ".venv",
   "language": "python",
   "name": "python3"
  },
  "language_info": {
   "codemirror_mode": {
    "name": "ipython",
    "version": 3
   },
   "file_extension": ".py",
   "mimetype": "text/x-python",
   "name": "python",
   "nbconvert_exporter": "python",
   "pygments_lexer": "ipython3",
   "version": "3.11.6"
  }
 },
 "nbformat": 4,
 "nbformat_minor": 2
}
